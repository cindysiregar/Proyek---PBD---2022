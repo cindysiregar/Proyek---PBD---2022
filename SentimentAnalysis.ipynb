{
 "cells": [
  {
   "cell_type": "code",
   "execution_count": 4,
   "metadata": {
    "scrolled": true
   },
   "outputs": [
    {
     "name": "stdout",
     "output_type": "stream",
     "text": [
      "Collecting auto-py-to-exe\n",
      "  Downloading auto_py_to_exe-2.19.0-py2.py3-none-any.whl (92 kB)\n",
      "Collecting Eel==0.12.4\n",
      "  Downloading Eel-0.12.4.tar.gz (15 kB)\n",
      "Collecting pyinstaller>=4.6\n",
      "  Downloading pyinstaller-5.0.1-py3-none-win_amd64.whl (2.0 MB)\n",
      "Collecting bottle\n",
      "  Downloading bottle-0.12.19-py3-none-any.whl (89 kB)\n",
      "Collecting bottle-websocket\n",
      "  Downloading bottle-websocket-0.2.9.tar.gz (2.0 kB)\n",
      "Requirement already satisfied: future in c:\\users\\itd\\anaconda3\\lib\\site-packages (from Eel==0.12.4->auto-py-to-exe) (0.18.2)\n",
      "Collecting whichcraft\n",
      "  Downloading whichcraft-0.6.1-py2.py3-none-any.whl (5.2 kB)\n",
      "Collecting pefile>=2017.8.1; sys_platform == \"win32\"\n",
      "  Downloading pefile-2021.9.3.tar.gz (72 kB)\n",
      "Requirement already satisfied: setuptools in c:\\users\\itd\\anaconda3\\lib\\site-packages (from pyinstaller>=4.6->auto-py-to-exe) (49.2.0.post20200714)\n",
      "Requirement already satisfied: pywin32-ctypes>=0.2.0; sys_platform == \"win32\" in c:\\users\\itd\\anaconda3\\lib\\site-packages (from pyinstaller>=4.6->auto-py-to-exe) (0.2.0)\n",
      "Collecting pyinstaller-hooks-contrib>=2020.6\n",
      "Note: you may need to restart the kernel to use updated packages.  Downloading pyinstaller_hooks_contrib-2022.4-py2.py3-none-any.whl (229 kB)\n",
      "\n",
      "Collecting altgraph\n",
      "  Downloading altgraph-0.17.2-py2.py3-none-any.whl (21 kB)\n",
      "Collecting gevent-websocket\n",
      "  Downloading gevent_websocket-0.10.1-py3-none-any.whl (22 kB)\n",
      "Requirement already satisfied: gevent in c:\\users\\itd\\anaconda3\\lib\\site-packages (from gevent-websocket->bottle-websocket->Eel==0.12.4->auto-py-to-exe) (20.6.2)\n",
      "Requirement already satisfied: cffi>=1.12.2; platform_python_implementation == \"CPython\" and sys_platform == \"win32\" in c:\\users\\itd\\anaconda3\\lib\\site-packages (from gevent->gevent-websocket->bottle-websocket->Eel==0.12.4->auto-py-to-exe) (1.14.0)\n",
      "Requirement already satisfied: zope.interface in c:\\users\\itd\\anaconda3\\lib\\site-packages (from gevent->gevent-websocket->bottle-websocket->Eel==0.12.4->auto-py-to-exe) (4.7.1)\n",
      "Requirement already satisfied: zope.event in c:\\users\\itd\\anaconda3\\lib\\site-packages (from gevent->gevent-websocket->bottle-websocket->Eel==0.12.4->auto-py-to-exe) (4.4)\n",
      "Requirement already satisfied: greenlet>=0.4.16; platform_python_implementation == \"CPython\" in c:\\users\\itd\\anaconda3\\lib\\site-packages (from gevent->gevent-websocket->bottle-websocket->Eel==0.12.4->auto-py-to-exe) (0.4.16)\n",
      "Requirement already satisfied: pycparser in c:\\users\\itd\\anaconda3\\lib\\site-packages (from cffi>=1.12.2; platform_python_implementation == \"CPython\" and sys_platform == \"win32\"->gevent->gevent-websocket->bottle-websocket->Eel==0.12.4->auto-py-to-exe) (2.20)\n",
      "Building wheels for collected packages: Eel, bottle-websocket, pefile\n",
      "  Building wheel for Eel (setup.py): started\n",
      "  Building wheel for Eel (setup.py): finished with status 'done'\n",
      "  Created wheel for Eel: filename=Eel-0.12.4-py3-none-any.whl size=16228 sha256=0e4abc1d2b79a229419862d4430a266c3b5885f66eea8095bbe90fcc76c7594e\n",
      "  Stored in directory: c:\\users\\itd\\appdata\\local\\pip\\cache\\wheels\\9d\\ca\\af\\6610598aa208b55dc7939fd98f9585d65b9376cfbe5d6eb0ab\n",
      "  Building wheel for bottle-websocket (setup.py): started\n",
      "  Building wheel for bottle-websocket (setup.py): finished with status 'done'\n",
      "  Created wheel for bottle-websocket: filename=bottle_websocket-0.2.9-py3-none-any.whl size=2346 sha256=f4a694f1a968ab9e5f77c8875aa64ec65ee9cc9859030d33c902c52aea6b2916\n",
      "  Stored in directory: c:\\users\\itd\\appdata\\local\\pip\\cache\\wheels\\ab\\bd\\a8\\c939961e0cf3a5515ea922ef6b47e33c1c7237f0ac39443ed5\n",
      "  Building wheel for pefile (setup.py): started\n",
      "  Building wheel for pefile (setup.py): finished with status 'done'\n",
      "  Created wheel for pefile: filename=pefile-2021.9.3-py3-none-any.whl size=68830 sha256=750753ee83ac41558a70063237a0b7a4c00a23b29df0e4e14b6b6886108182f1\n",
      "  Stored in directory: c:\\users\\itd\\appdata\\local\\pip\\cache\\wheels\\ee\\a0\\e1\\ff2dafe5ae846f536acf0a4cc4a8b8d4ccb3044ab87f3ef174\n",
      "Successfully built Eel bottle-websocket pefile\n",
      "Installing collected packages: bottle, gevent-websocket, bottle-websocket, whichcraft, Eel, pefile, pyinstaller-hooks-contrib, altgraph, pyinstaller, auto-py-to-exe\n",
      "Successfully installed Eel-0.12.4 altgraph-0.17.2 auto-py-to-exe-2.19.0 bottle-0.12.19 bottle-websocket-0.2.9 gevent-websocket-0.10.1 pefile-2021.9.3 pyinstaller-5.0.1 pyinstaller-hooks-contrib-2022.4 whichcraft-0.6.1\n"
     ]
    }
   ],
   "source": [
    "pip install auto-py-to-exe"
   ]
  },
  {
   "cell_type": "code",
   "execution_count": 5,
   "metadata": {
    "scrolled": true
   },
   "outputs": [
    {
     "name": "stdout",
     "output_type": "stream",
     "text": [
      "Collecting psycopg2\n",
      "  Downloading psycopg2-2.9.3-cp38-cp38-win_amd64.whl (1.1 MB)\n",
      "Installing collected packages: psycopg2\n",
      "Successfully installed psycopg2-2.9.3\n",
      "Note: you may need to restart the kernel to use updated packages.\n"
     ]
    }
   ],
   "source": [
    "pip install psycopg2"
   ]
  },
  {
   "cell_type": "code",
   "execution_count": 4,
   "metadata": {},
   "outputs": [
    {
     "name": "stdout",
     "output_type": "stream",
     "text": [
      "Collecting ruamel.yaml\n",
      "  Downloading ruamel.yaml-0.17.21-py3-none-any.whl (109 kB)\n",
      "Collecting ruamel.yaml.clib>=0.2.6; platform_python_implementation == \"CPython\" and python_version < \"3.11\"\n",
      "  Downloading ruamel.yaml.clib-0.2.6-cp38-cp38-win_amd64.whl (117 kB)\n",
      "Installing collected packages: ruamel.yaml.clib, ruamel.yaml\n",
      "Successfully installed ruamel.yaml-0.17.21 ruamel.yaml.clib-0.2.6\n",
      "Note: you may need to restart the kernel to use updated packages.\n"
     ]
    }
   ],
   "source": [
    "pip install --upgrade ruamel.yaml --ignore-installed ruamel.yaml"
   ]
  },
  {
   "cell_type": "code",
   "execution_count": 1,
   "metadata": {
    "scrolled": true
   },
   "outputs": [
    {
     "name": "stdout",
     "output_type": "stream",
     "text": [
      "Requirement already satisfied: textblob in c:\\users\\itd\\anaconda3\\lib\\site-packages (0.17.1)\n",
      "Requirement already satisfied: nltk>=3.1; python_version >= \"3\" in c:\\users\\itd\\anaconda3\\lib\\site-packages (from textblob) (3.5)\n",
      "Requirement already satisfied: tqdm in c:\\users\\itd\\anaconda3\\lib\\site-packages (from nltk>=3.1; python_version >= \"3\"->textblob) (4.62.2)\n",
      "Requirement already satisfied: click in c:\\users\\itd\\anaconda3\\lib\\site-packages (from nltk>=3.1; python_version >= \"3\"->textblob) (7.1.2)\n",
      "Requirement already satisfied: regex in c:\\users\\itd\\anaconda3\\lib\\site-packages (from nltk>=3.1; python_version >= \"3\"->textblob) (2020.6.8)\n",
      "Requirement already satisfied: joblib in c:\\users\\itd\\anaconda3\\lib\\site-packages (from nltk>=3.1; python_version >= \"3\"->textblob) (0.16.0)\n",
      "Requirement already satisfied: colorama; platform_system == \"Windows\" in c:\\users\\itd\\anaconda3\\lib\\site-packages (from tqdm->nltk>=3.1; python_version >= \"3\"->textblob) (0.4.3)\n",
      "Requirement already satisfied: tweepy in c:\\users\\itd\\anaconda3\\lib\\site-packages (4.8.0)\n",
      "Requirement already satisfied: requests-oauthlib<2,>=1.2.0 in c:\\users\\itd\\anaconda3\\lib\\site-packages (from tweepy) (1.3.0)\n",
      "Requirement already satisfied: oauthlib<4,>=3.2.0 in c:\\users\\itd\\anaconda3\\lib\\site-packages (from tweepy) (3.2.0)\n",
      "Requirement already satisfied: requests<3,>=2.27.0 in c:\\users\\itd\\anaconda3\\lib\\site-packages (from tweepy) (2.27.1)\n",
      "Requirement already satisfied: urllib3<1.27,>=1.21.1 in c:\\users\\itd\\anaconda3\\lib\\site-packages (from requests<3,>=2.27.0->tweepy) (1.25.9)\n",
      "Requirement already satisfied: idna<4,>=2.5; python_version >= \"3\" in c:\\users\\itd\\anaconda3\\lib\\site-packages (from requests<3,>=2.27.0->tweepy) (2.10)\n",
      "Requirement already satisfied: certifi>=2017.4.17 in c:\\users\\itd\\anaconda3\\lib\\site-packages (from requests<3,>=2.27.0->tweepy) (2020.6.20)\n",
      "Requirement already satisfied: charset-normalizer~=2.0.0; python_version >= \"3\" in c:\\users\\itd\\anaconda3\\lib\\site-packages (from requests<3,>=2.27.0->tweepy) (2.0.12)\n"
     ]
    }
   ],
   "source": [
    "# Install Libraries\n",
    "!pip install textblob\n",
    "!pip install tweepy"
   ]
  },
  {
   "cell_type": "code",
   "execution_count": 3,
   "metadata": {
    "scrolled": true
   },
   "outputs": [
    {
     "name": "stdout",
     "output_type": "stream",
     "text": [
      "Collecting pycountry\n",
      "  Downloading pycountry-22.3.5.tar.gz (10.1 MB)\n",
      "  Installing build dependencies: started\n",
      "  Installing build dependencies: finished with status 'done'\n",
      "  Getting requirements to build wheel: started\n",
      "  Getting requirements to build wheel: finished with status 'done'\n",
      "    Preparing wheel metadata: started\n",
      "    Preparing wheel metadata: finished with status 'done'\n",
      "Requirement already satisfied: setuptools in c:\\users\\itd\\anaconda3\\lib\\site-packages (from pycountry) (49.2.0.post20200714)\n",
      "Building wheels for collected packages: pycountry\n",
      "  Building wheel for pycountry (PEP 517): started\n",
      "  Building wheel for pycountry (PEP 517): finished with status 'done'\n",
      "  Created wheel for pycountry: filename=pycountry-22.3.5-py2.py3-none-any.whl size=10681845 sha256=a9535e05bb8fd0106505e6da0852a0bd71160f6a75734556ca155ecea16cef43\n",
      "  Stored in directory: c:\\users\\itd\\appdata\\local\\pip\\cache\\wheels\\e2\\aa\\0f\\c224e473b464387170b83ca7c66947b4a7e33e8d903a679748\n",
      "Successfully built pycountry\n",
      "Installing collected packages: pycountry\n",
      "Successfully installed pycountry-22.3.5\n",
      "Note: you may need to restart the kernel to use updated packages.\n"
     ]
    }
   ],
   "source": [
    "pip install pycountry"
   ]
  },
  {
   "cell_type": "code",
   "execution_count": 2,
   "metadata": {},
   "outputs": [
    {
     "name": "stdout",
     "output_type": "stream",
     "text": [
      "Collecting langdetect\n",
      "  Downloading langdetect-1.0.9.tar.gz (981 kB)\n",
      "Requirement already satisfied: six in c:\\users\\itd\\anaconda3\\lib\\site-packages (from langdetect) (1.15.0)\n",
      "Building wheels for collected packages: langdetectNote: you may need to restart the kernel to use updated packages.\n",
      "  Building wheel for langdetect (setup.py): started\n",
      "  Building wheel for langdetect (setup.py): finished with status 'done'\n",
      "  Created wheel for langdetect: filename=langdetect-1.0.9-py3-none-any.whl size=993222 sha256=5db6a719abeb4c15efa723dba8eeb67cac95433ccfa7be986690e3ec3c012a0a\n",
      "\n",
      "  Stored in directory: c:\\users\\itd\\appdata\\local\\pip\\cache\\wheels\\13\\c7\\b0\\79f66658626032e78fc1a83103690ef6797d551cb22e56e734\n",
      "Successfully built langdetect\n",
      "Installing collected packages: langdetect\n",
      "Successfully installed langdetect-1.0.9\n"
     ]
    }
   ],
   "source": [
    "pip install langdetect"
   ]
  },
  {
   "cell_type": "code",
   "execution_count": 7,
   "metadata": {},
   "outputs": [
    {
     "name": "stderr",
     "output_type": "stream",
     "text": [
      "[nltk_data] Downloading package vader_lexicon to\n",
      "[nltk_data]     C:\\Users\\ITD\\AppData\\Roaming\\nltk_data...\n"
     ]
    },
    {
     "data": {
      "text/plain": [
       "True"
      ]
     },
     "execution_count": 7,
     "metadata": {},
     "output_type": "execute_result"
    }
   ],
   "source": [
    "import nltk\n",
    "nltk.downloader.download('vader_lexicon')"
   ]
  },
  {
   "cell_type": "code",
   "execution_count": 2,
   "metadata": {},
   "outputs": [],
   "source": [
    "# Import Libraries\n",
    "\n",
    "from textblob import TextBlob\n",
    "import sys\n",
    "import tweepy\n",
    "import matplotlib.pyplot as plt\n",
    "import pandas as pd\n",
    "import numpy as np\n",
    "import os\n",
    "import nltk\n",
    "import pycountry\n",
    "import re\n",
    "import string\n",
    "\n",
    "from wordcloud import WordCloud, STOPWORDS\n",
    "from PIL import Image\n",
    "from nltk.sentiment.vader import SentimentIntensityAnalyzer\n",
    "from langdetect import detect\n",
    "from nltk.stem import SnowballStemmer\n",
    "from nltk.sentiment.vader import SentimentIntensityAnalyzer\n",
    "from sklearn.feature_extraction.text import CountVectorizer"
   ]
  },
  {
   "cell_type": "code",
   "execution_count": 3,
   "metadata": {},
   "outputs": [],
   "source": [
    "# Authentication\n",
    "consumerKey = \"VCXi57kKSV9XknYF6URbKsZLX\"\n",
    "consumerSecret = \"RLRuh0KUVgGjGjGczmRIC66HbyUPrM6ltM9pVGXigI0Ub15qyd\"\n",
    "accessToken = \"722625417081802756-Ma1ZvIpwrIZQK4K83umzgMSHQhg5bVr\"\n",
    "accessTokenSecret = \"tjuHWYt23cLjpqJIo3ewTMKV9zmcPiKFGXatmSdd5ksBO\"\n",
    "\n",
    "auth = tweepy.OAuthHandler(consumerKey, consumerSecret)\n",
    "auth.set_access_token(accessToken, accessTokenSecret)\n",
    "api = tweepy.API(auth)"
   ]
  },
  {
   "cell_type": "code",
   "execution_count": 9,
   "metadata": {},
   "outputs": [
    {
     "name": "stdout",
     "output_type": "stream",
     "text": [
      "Please enter keyword or hashtag to search: mobile legend\n",
      "Please enter how many tweets to analyze: 100\n"
     ]
    }
   ],
   "source": [
    "\n",
    "keyword = input(\"Please enter keyword or hashtag to search: \")\n",
    "noOfTweet = int(input (\"Please enter how many tweets to analyze: \"))\n",
    "\n",
    "tweets = tweepy.Cursor(api.search_tweets, q=keyword).items(noOfTweet)\n",
    "\n",
    "tweet_list = []\n",
    "\n",
    "for tweet in tweets:\n",
    "    \n",
    "    #print(tweet.text)\n",
    "    tweet_list.append(tweet.text)"
   ]
  },
  {
   "cell_type": "code",
   "execution_count": 10,
   "metadata": {
    "scrolled": true
   },
   "outputs": [],
   "source": [
    "#Number of Tweets\n",
    "tweet_list = pd.DataFrame(tweet_list)"
   ]
  },
  {
   "cell_type": "code",
   "execution_count": 11,
   "metadata": {
    "scrolled": false
   },
   "outputs": [
    {
     "data": {
      "text/html": [
       "<div>\n",
       "<style scoped>\n",
       "    .dataframe tbody tr th:only-of-type {\n",
       "        vertical-align: middle;\n",
       "    }\n",
       "\n",
       "    .dataframe tbody tr th {\n",
       "        vertical-align: top;\n",
       "    }\n",
       "\n",
       "    .dataframe thead th {\n",
       "        text-align: right;\n",
       "    }\n",
       "</style>\n",
       "<table border=\"1\" class=\"dataframe\">\n",
       "  <thead>\n",
       "    <tr style=\"text-align: right;\">\n",
       "      <th></th>\n",
       "      <th>0</th>\n",
       "    </tr>\n",
       "  </thead>\n",
       "  <tbody>\n",
       "    <tr>\n",
       "      <th>0</th>\n",
       "      <td>Pulang dr bali sampe jkt tidur dari siang samp...</td>\n",
       "    </tr>\n",
       "    <tr>\n",
       "      <th>1</th>\n",
       "      <td>MOBILE LEGEND\\n12 💎 : 6,5k\\n19 💎 : 9k\\n28 💎 : ...</td>\n",
       "    </tr>\n",
       "    <tr>\n",
       "      <th>2</th>\n",
       "      <td>RT @XLAxiata_Tbk: @PembebasanTinta Hi @Pembeba...</td>\n",
       "    </tr>\n",
       "    <tr>\n",
       "      <th>3</th>\n",
       "      <td>It seems like Apex Legends Mobile’s trailer cu...</td>\n",
       "    </tr>\n",
       "    <tr>\n",
       "      <th>4</th>\n",
       "      <td>RT @alphaINTEL: New Legend teaser for Apex Leg...</td>\n",
       "    </tr>\n",
       "    <tr>\n",
       "      <th>...</th>\n",
       "      <td>...</td>\n",
       "    </tr>\n",
       "    <tr>\n",
       "      <th>95</th>\n",
       "      <td>RT @alphaINTEL: New Legend teaser for Apex Leg...</td>\n",
       "    </tr>\n",
       "    <tr>\n",
       "      <th>96</th>\n",
       "      <td>need diamond mobile legend beng beng #zonauang</td>\n",
       "    </tr>\n",
       "    <tr>\n",
       "      <th>97</th>\n",
       "      <td>RT @HuntaNft: I was ignored by @Nastasiadeline...</td>\n",
       "    </tr>\n",
       "    <tr>\n",
       "      <th>98</th>\n",
       "      <td>nemu pantun dakjal ini pas nonton video ngaber...</td>\n",
       "    </tr>\n",
       "    <tr>\n",
       "      <th>99</th>\n",
       "      <td>Terus gue salah posting ini di Twitter. \\nYa s...</td>\n",
       "    </tr>\n",
       "  </tbody>\n",
       "</table>\n",
       "<p>100 rows × 1 columns</p>\n",
       "</div>"
      ],
      "text/plain": [
       "                                                    0\n",
       "0   Pulang dr bali sampe jkt tidur dari siang samp...\n",
       "1   MOBILE LEGEND\\n12 💎 : 6,5k\\n19 💎 : 9k\\n28 💎 : ...\n",
       "2   RT @XLAxiata_Tbk: @PembebasanTinta Hi @Pembeba...\n",
       "3   It seems like Apex Legends Mobile’s trailer cu...\n",
       "4   RT @alphaINTEL: New Legend teaser for Apex Leg...\n",
       "..                                                ...\n",
       "95  RT @alphaINTEL: New Legend teaser for Apex Leg...\n",
       "96     need diamond mobile legend beng beng #zonauang\n",
       "97  RT @HuntaNft: I was ignored by @Nastasiadeline...\n",
       "98  nemu pantun dakjal ini pas nonton video ngaber...\n",
       "99  Terus gue salah posting ini di Twitter. \\nYa s...\n",
       "\n",
       "[100 rows x 1 columns]"
      ]
     },
     "execution_count": 11,
     "metadata": {},
     "output_type": "execute_result"
    }
   ],
   "source": [
    "tweet_list"
   ]
  },
  {
   "cell_type": "code",
   "execution_count": null,
   "metadata": {},
   "outputs": [],
   "source": []
  }
 ],
 "metadata": {
  "kernelspec": {
   "display_name": "Python 3",
   "language": "python",
   "name": "python3"
  },
  "language_info": {
   "codemirror_mode": {
    "name": "ipython",
    "version": 3
   },
   "file_extension": ".py",
   "mimetype": "text/x-python",
   "name": "python",
   "nbconvert_exporter": "python",
   "pygments_lexer": "ipython3",
   "version": "3.8.3"
  }
 },
 "nbformat": 4,
 "nbformat_minor": 4
}
