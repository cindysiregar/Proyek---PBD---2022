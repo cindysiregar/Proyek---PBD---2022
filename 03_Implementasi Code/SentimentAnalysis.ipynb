{
 "cells": [
  {
   "cell_type": "code",
   "execution_count": null,
   "metadata": {
    "scrolled": true
   },
   "outputs": [],
   "source": [
    "pip install auto-py-to-exe"
   ]
  },
  {
   "cell_type": "code",
   "execution_count": null,
   "metadata": {
    "scrolled": true
   },
   "outputs": [],
   "source": [
    "pip install psycopg2"
   ]
  },
  {
   "cell_type": "code",
   "execution_count": null,
   "metadata": {},
   "outputs": [],
   "source": [
    "pip install --upgrade ruamel.yaml --ignore-installed ruamel.yaml"
   ]
  },
  {
   "cell_type": "code",
   "execution_count": null,
   "metadata": {
    "scrolled": true
   },
   "outputs": [],
   "source": [
    "# Install Libraries\n",
    "!pip install textblob\n",
    "!pip install tweepy"
   ]
  },
  {
   "cell_type": "code",
   "execution_count": null,
   "metadata": {
    "scrolled": true
   },
   "outputs": [],
   "source": [
    "pip install pycountry"
   ]
  },
  {
   "cell_type": "code",
   "execution_count": null,
   "metadata": {},
   "outputs": [],
   "source": [
    "pip install langdetect"
   ]
  },
  {
   "cell_type": "code",
   "execution_count": null,
   "metadata": {},
   "outputs": [],
   "source": [
    "import nltk\n",
    "nltk.downloader.download('vader_lexicon')"
   ]
  },
  {
   "cell_type": "code",
   "execution_count": 1,
   "metadata": {},
   "outputs": [],
   "source": [
    "# Import Libraries\n",
    "\n",
    "from textblob import TextBlob\n",
    "import sys\n",
    "import tweepy\n",
    "import matplotlib.pyplot as plt\n",
    "import pandas as pd\n",
    "import numpy as np\n",
    "import os\n",
    "import nltk\n",
    "import pycountry\n",
    "import re\n",
    "import string\n",
    "import csv\n",
    "import json\n",
    "\n",
    "from wordcloud import WordCloud, STOPWORDS\n",
    "from PIL import Image\n",
    "from nltk.sentiment.vader import SentimentIntensityAnalyzer\n",
    "from langdetect import detect\n",
    "from nltk.stem import SnowballStemmer\n",
    "from nltk.sentiment.vader import SentimentIntensityAnalyzer\n",
    "from sklearn.feature_extraction.text import CountVectorizer\n",
    "from tweepy import OAuthHandler\n",
    "from tweepy import Stream"
   ]
  },
  {
   "cell_type": "markdown",
   "metadata": {},
   "source": [
    "### Scraping Data"
   ]
  },
  {
   "cell_type": "code",
   "execution_count": 2,
   "metadata": {},
   "outputs": [
    {
     "name": "stdout",
     "output_type": "stream",
     "text": [
      "Proses Scrapping Selesai! Jumlah Data = 1000\n"
     ]
    }
   ],
   "source": [
    "# Autentikasi API\n",
    "consumerKey = \"VCXi57kKSV9XknYF6URbKsZLX\"\n",
    "consumerSecret = \"RLRuh0KUVgGjGjGczmRIC66HbyUPrM6ltM9pVGXigI0Ub15qyd\"\n",
    "accessToken = \"722625417081802756-Ma1ZvIpwrIZQK4K83umzgMSHQhg5bVr\"\n",
    "accessTokenSecret = \"tjuHWYt23cLjpqJIo3ewTMKV9zmcPiKFGXatmSdd5ksBO\"\n",
    "\n",
    "# Scraping Data\n",
    "\n",
    "autentikasi = OAuthHandler(consumerKey, consumerSecret)\n",
    "autentikasi.set_access_token(accessToken, accessTokenSecret)\n",
    "api = tweepy.API(autentikasi)\n",
    "\n",
    "def scraptweets(cari_kata):\n",
    "\n",
    "    data_tweets = pd.DataFrame(columns=['id', 'username', 'tweetCreated', 'tweetText'])\n",
    "\n",
    "    tweets = tweepy.Cursor(\n",
    "                    api.search_tweets, q=cari_kata, lang=\"en\", tweet_mode='extended').items(1000)\n",
    "\n",
    "    daftar_tweet = [tweet for tweet in tweets]\n",
    "\n",
    "    for tweet in daftar_tweet:\n",
    "        id = tweet.id\n",
    "        username = tweet.user.screen_name\n",
    "        tweetCreated = tweet.created_at\n",
    "\n",
    "        try:\n",
    "            tweetText = tweet.retweeted_status.full_text\n",
    "        except AttributeError:\n",
    "            tweetText = tweet.full_text\n",
    "\n",
    "        ith_tweet = [id, username, tweetCreated, tweetText]\n",
    "\n",
    "        data_tweets.loc[len(data_tweets)] = ith_tweet\n",
    "    \n",
    "    print('Proses Scrapping Selesai! Jumlah Data =', len(data_tweets))\n",
    "    namafile = 'data_mobilelegend.csv'\n",
    "    data_tweets.to_csv(namafile, index=False)\n",
    "\n",
    "cari_kata = \"mobilelegend OR pushrank OR turrent OR MobileLegendsOL\"\n",
    "\n",
    "scraptweets(cari_kata)"
   ]
  },
  {
   "cell_type": "code",
   "execution_count": 3,
   "metadata": {
    "scrolled": true
   },
   "outputs": [],
   "source": [
    "#Read File\n",
    "tweet_list = pd.read_csv(\"E:/Semester_8/12S4058_Pengolahan_Data_Besar/08.Proyek/TwitterSentimentAnalysis-master (dipakai)/data_mobilelegend.csv\")"
   ]
  },
  {
   "cell_type": "code",
   "execution_count": 4,
   "metadata": {
    "scrolled": true
   },
   "outputs": [
    {
     "data": {
      "text/html": [
       "<div>\n",
       "<style scoped>\n",
       "    .dataframe tbody tr th:only-of-type {\n",
       "        vertical-align: middle;\n",
       "    }\n",
       "\n",
       "    .dataframe tbody tr th {\n",
       "        vertical-align: top;\n",
       "    }\n",
       "\n",
       "    .dataframe thead th {\n",
       "        text-align: right;\n",
       "    }\n",
       "</style>\n",
       "<table border=\"1\" class=\"dataframe\">\n",
       "  <thead>\n",
       "    <tr style=\"text-align: right;\">\n",
       "      <th></th>\n",
       "      <th>id</th>\n",
       "      <th>username</th>\n",
       "      <th>tweetCreated</th>\n",
       "      <th>tweetText</th>\n",
       "    </tr>\n",
       "  </thead>\n",
       "  <tbody>\n",
       "    <tr>\n",
       "      <th>0</th>\n",
       "      <td>1529384401192341505</td>\n",
       "      <td>AndreOl69442054</td>\n",
       "      <td>2022-05-25 08:50:30+00:00</td>\n",
       "      <td>@MobileLegendsOL When guys going to do somethi...</td>\n",
       "    </tr>\n",
       "    <tr>\n",
       "      <th>1</th>\n",
       "      <td>1529374689466134529</td>\n",
       "      <td>RayAshG</td>\n",
       "      <td>2022-05-25 08:11:55+00:00</td>\n",
       "      <td>Joystick Bug 5/24:\\n\\nPressing 2 directions at...</td>\n",
       "    </tr>\n",
       "    <tr>\n",
       "      <th>2</th>\n",
       "      <td>1529374459726966784</td>\n",
       "      <td>EsportsCharts</td>\n",
       "      <td>2022-05-25 08:11:00+00:00</td>\n",
       "      <td>Most popular @MobileLegendsOL events by Peak V...</td>\n",
       "    </tr>\n",
       "    <tr>\n",
       "      <th>3</th>\n",
       "      <td>1529373477995966464</td>\n",
       "      <td>not_tris_tan</td>\n",
       "      <td>2022-05-25 08:07:06+00:00</td>\n",
       "      <td>@freakingmvp @MobileLegendsOL Tbh the box thin...</td>\n",
       "    </tr>\n",
       "    <tr>\n",
       "      <th>4</th>\n",
       "      <td>1529368943651180546</td>\n",
       "      <td>RussellConner14</td>\n",
       "      <td>2022-05-25 07:49:05+00:00</td>\n",
       "      <td>@jordicas19 Can you try angling the cannon/tur...</td>\n",
       "    </tr>\n",
       "    <tr>\n",
       "      <th>...</th>\n",
       "      <td>...</td>\n",
       "      <td>...</td>\n",
       "      <td>...</td>\n",
       "      <td>...</td>\n",
       "    </tr>\n",
       "    <tr>\n",
       "      <th>995</th>\n",
       "      <td>1527290729684299778</td>\n",
       "      <td>MobileLegendsOL</td>\n",
       "      <td>2022-05-19 14:11:00+00:00</td>\n",
       "      <td>\"Another round of guess the hero. 😇 RIght answ...</td>\n",
       "    </tr>\n",
       "    <tr>\n",
       "      <th>996</th>\n",
       "      <td>1527290371520200705</td>\n",
       "      <td>Silver31653</td>\n",
       "      <td>2022-05-19 14:09:34+00:00</td>\n",
       "      <td>@MobileLegendsOL @TSU Guy come on that to easy...</td>\n",
       "    </tr>\n",
       "    <tr>\n",
       "      <th>997</th>\n",
       "      <td>1527288433395126273</td>\n",
       "      <td>BasilVanlalhru1</td>\n",
       "      <td>2022-05-19 14:01:52+00:00</td>\n",
       "      <td>@MobileLegendsOL Is mlbb really losing the law...</td>\n",
       "    </tr>\n",
       "    <tr>\n",
       "      <th>998</th>\n",
       "      <td>1527270881898418176</td>\n",
       "      <td>Vexanafanboy</td>\n",
       "      <td>2022-05-19 12:52:08+00:00</td>\n",
       "      <td>@MobileLegendsOL MOONTON : Wanted Julian\\nRiot...</td>\n",
       "    </tr>\n",
       "    <tr>\n",
       "      <th>999</th>\n",
       "      <td>1527267093632016385</td>\n",
       "      <td>zeria_abamosnow</td>\n",
       "      <td>2022-05-19 12:37:05+00:00</td>\n",
       "      <td>@MobileLegendsOL @TSU Alice</td>\n",
       "    </tr>\n",
       "  </tbody>\n",
       "</table>\n",
       "<p>1000 rows × 4 columns</p>\n",
       "</div>"
      ],
      "text/plain": [
       "                      id         username               tweetCreated  \\\n",
       "0    1529384401192341505  AndreOl69442054  2022-05-25 08:50:30+00:00   \n",
       "1    1529374689466134529          RayAshG  2022-05-25 08:11:55+00:00   \n",
       "2    1529374459726966784    EsportsCharts  2022-05-25 08:11:00+00:00   \n",
       "3    1529373477995966464     not_tris_tan  2022-05-25 08:07:06+00:00   \n",
       "4    1529368943651180546  RussellConner14  2022-05-25 07:49:05+00:00   \n",
       "..                   ...              ...                        ...   \n",
       "995  1527290729684299778  MobileLegendsOL  2022-05-19 14:11:00+00:00   \n",
       "996  1527290371520200705      Silver31653  2022-05-19 14:09:34+00:00   \n",
       "997  1527288433395126273  BasilVanlalhru1  2022-05-19 14:01:52+00:00   \n",
       "998  1527270881898418176     Vexanafanboy  2022-05-19 12:52:08+00:00   \n",
       "999  1527267093632016385  zeria_abamosnow  2022-05-19 12:37:05+00:00   \n",
       "\n",
       "                                             tweetText  \n",
       "0    @MobileLegendsOL When guys going to do somethi...  \n",
       "1    Joystick Bug 5/24:\\n\\nPressing 2 directions at...  \n",
       "2    Most popular @MobileLegendsOL events by Peak V...  \n",
       "3    @freakingmvp @MobileLegendsOL Tbh the box thin...  \n",
       "4    @jordicas19 Can you try angling the cannon/tur...  \n",
       "..                                                 ...  \n",
       "995  \"Another round of guess the hero. 😇 RIght answ...  \n",
       "996  @MobileLegendsOL @TSU Guy come on that to easy...  \n",
       "997  @MobileLegendsOL Is mlbb really losing the law...  \n",
       "998  @MobileLegendsOL MOONTON : Wanted Julian\\nRiot...  \n",
       "999                        @MobileLegendsOL @TSU Alice  \n",
       "\n",
       "[1000 rows x 4 columns]"
      ]
     },
     "execution_count": 4,
     "metadata": {},
     "output_type": "execute_result"
    }
   ],
   "source": [
    "tweet_list"
   ]
  },
  {
   "cell_type": "markdown",
   "metadata": {},
   "source": [
    "### Exploratory Data Analysis"
   ]
  },
  {
   "cell_type": "code",
   "execution_count": 5,
   "metadata": {
    "scrolled": false
   },
   "outputs": [
    {
     "name": "stdout",
     "output_type": "stream",
     "text": [
      "<class 'pandas.core.frame.DataFrame'>\n",
      "RangeIndex: 1000 entries, 0 to 999\n",
      "Data columns (total 4 columns):\n",
      " #   Column        Non-Null Count  Dtype \n",
      "---  ------        --------------  ----- \n",
      " 0   id            1000 non-null   int64 \n",
      " 1   username      1000 non-null   object\n",
      " 2   tweetCreated  1000 non-null   object\n",
      " 3   tweetText     1000 non-null   object\n",
      "dtypes: int64(1), object(3)\n",
      "memory usage: 31.4+ KB\n"
     ]
    }
   ],
   "source": [
    "tweet_list.info()"
   ]
  },
  {
   "cell_type": "code",
   "execution_count": 6,
   "metadata": {
    "scrolled": true
   },
   "outputs": [
    {
     "data": {
      "text/plain": [
       "False"
      ]
     },
     "execution_count": 6,
     "metadata": {},
     "output_type": "execute_result"
    }
   ],
   "source": [
    "# Cek nilai duplikat\n",
    "tweet_list.duplicated().any()"
   ]
  },
  {
   "cell_type": "code",
   "execution_count": 7,
   "metadata": {},
   "outputs": [
    {
     "data": {
      "text/plain": [
       "id              False\n",
       "username        False\n",
       "tweetCreated    False\n",
       "tweetText       False\n",
       "dtype: bool"
      ]
     },
     "execution_count": 7,
     "metadata": {},
     "output_type": "execute_result"
    }
   ],
   "source": [
    "# Cek null\n",
    "tweet_list.isna().any()"
   ]
  },
  {
   "cell_type": "code",
   "execution_count": 8,
   "metadata": {},
   "outputs": [
    {
     "data": {
      "text/plain": [
       "id              False\n",
       "username        False\n",
       "tweetCreated    False\n",
       "tweetText       False\n",
       "dtype: bool"
      ]
     },
     "execution_count": 8,
     "metadata": {},
     "output_type": "execute_result"
    }
   ],
   "source": [
    "tweet_list.isnull().any()"
   ]
  },
  {
   "cell_type": "code",
   "execution_count": 9,
   "metadata": {},
   "outputs": [],
   "source": [
    "df=tweet_list.tweetText\n",
    "df=pd.DataFrame(df)"
   ]
  },
  {
   "cell_type": "code",
   "execution_count": 10,
   "metadata": {
    "scrolled": false
   },
   "outputs": [
    {
     "data": {
      "text/html": [
       "<div>\n",
       "<style scoped>\n",
       "    .dataframe tbody tr th:only-of-type {\n",
       "        vertical-align: middle;\n",
       "    }\n",
       "\n",
       "    .dataframe tbody tr th {\n",
       "        vertical-align: top;\n",
       "    }\n",
       "\n",
       "    .dataframe thead th {\n",
       "        text-align: right;\n",
       "    }\n",
       "</style>\n",
       "<table border=\"1\" class=\"dataframe\">\n",
       "  <thead>\n",
       "    <tr style=\"text-align: right;\">\n",
       "      <th></th>\n",
       "      <th>tweetText</th>\n",
       "    </tr>\n",
       "  </thead>\n",
       "  <tbody>\n",
       "    <tr>\n",
       "      <th>0</th>\n",
       "      <td>@MobileLegendsOL When guys going to do somethi...</td>\n",
       "    </tr>\n",
       "    <tr>\n",
       "      <th>1</th>\n",
       "      <td>Joystick Bug 5/24:\\n\\nPressing 2 directions at...</td>\n",
       "    </tr>\n",
       "    <tr>\n",
       "      <th>2</th>\n",
       "      <td>Most popular @MobileLegendsOL events by Peak V...</td>\n",
       "    </tr>\n",
       "    <tr>\n",
       "      <th>3</th>\n",
       "      <td>@freakingmvp @MobileLegendsOL Tbh the box thin...</td>\n",
       "    </tr>\n",
       "    <tr>\n",
       "      <th>4</th>\n",
       "      <td>@jordicas19 Can you try angling the cannon/tur...</td>\n",
       "    </tr>\n",
       "    <tr>\n",
       "      <th>...</th>\n",
       "      <td>...</td>\n",
       "    </tr>\n",
       "    <tr>\n",
       "      <th>995</th>\n",
       "      <td>\"Another round of guess the hero. 😇 RIght answ...</td>\n",
       "    </tr>\n",
       "    <tr>\n",
       "      <th>996</th>\n",
       "      <td>@MobileLegendsOL @TSU Guy come on that to easy...</td>\n",
       "    </tr>\n",
       "    <tr>\n",
       "      <th>997</th>\n",
       "      <td>@MobileLegendsOL Is mlbb really losing the law...</td>\n",
       "    </tr>\n",
       "    <tr>\n",
       "      <th>998</th>\n",
       "      <td>@MobileLegendsOL MOONTON : Wanted Julian\\nRiot...</td>\n",
       "    </tr>\n",
       "    <tr>\n",
       "      <th>999</th>\n",
       "      <td>@MobileLegendsOL @TSU Alice</td>\n",
       "    </tr>\n",
       "  </tbody>\n",
       "</table>\n",
       "<p>1000 rows × 1 columns</p>\n",
       "</div>"
      ],
      "text/plain": [
       "                                             tweetText\n",
       "0    @MobileLegendsOL When guys going to do somethi...\n",
       "1    Joystick Bug 5/24:\\n\\nPressing 2 directions at...\n",
       "2    Most popular @MobileLegendsOL events by Peak V...\n",
       "3    @freakingmvp @MobileLegendsOL Tbh the box thin...\n",
       "4    @jordicas19 Can you try angling the cannon/tur...\n",
       "..                                                 ...\n",
       "995  \"Another round of guess the hero. 😇 RIght answ...\n",
       "996  @MobileLegendsOL @TSU Guy come on that to easy...\n",
       "997  @MobileLegendsOL Is mlbb really losing the law...\n",
       "998  @MobileLegendsOL MOONTON : Wanted Julian\\nRiot...\n",
       "999                        @MobileLegendsOL @TSU Alice\n",
       "\n",
       "[1000 rows x 1 columns]"
      ]
     },
     "execution_count": 10,
     "metadata": {},
     "output_type": "execute_result"
    }
   ],
   "source": [
    "df"
   ]
  },
  {
   "cell_type": "code",
   "execution_count": 11,
   "metadata": {},
   "outputs": [],
   "source": [
    "#Menghapus karakter HTML\n",
    "df['tweetText'].replace({'r\"\\&\\#[0-9]+\\;\"':''},regex=True,inplace=True)"
   ]
  },
  {
   "cell_type": "code",
   "execution_count": 12,
   "metadata": {},
   "outputs": [],
   "source": [
    "#Mengubah semua text menjadi huruf kecil\n",
    "df['tweetText']=df['tweetText'].str.lower()"
   ]
  },
  {
   "cell_type": "code",
   "execution_count": 13,
   "metadata": {},
   "outputs": [],
   "source": [
    "#Menghapus tanda baca\n",
    "df['tweetText'].replace({'[^\\w\\s]':''},regex=True,inplace=True)"
   ]
  },
  {
   "cell_type": "code",
   "execution_count": 14,
   "metadata": {},
   "outputs": [],
   "source": [
    "#Menghapus angka\n",
    "df['tweetText'].replace({'\\d+':''},regex=True,inplace=True)"
   ]
  },
  {
   "cell_type": "code",
   "execution_count": 15,
   "metadata": {},
   "outputs": [],
   "source": [
    "#Menghapus tanda jeda baris\n",
    "df['tweetText'].replace({'\\n':'','\\r':'',\"\\'\":\"\"},regex=True,inplace=True)"
   ]
  },
  {
   "cell_type": "code",
   "execution_count": 16,
   "metadata": {},
   "outputs": [],
   "source": [
    "#Menghapus spasi putih yang tidak perlu\n",
    "df['tweetText'].replace({'r\"[\\s]+\"':''},regex=True,inplace=True)"
   ]
  },
  {
   "cell_type": "code",
   "execution_count": 17,
   "metadata": {},
   "outputs": [],
   "source": [
    "#Menghapus aksen\n",
    "from unicodedata import normalize\n",
    "df['tweetText']=df['tweetText'].apply(lambda text: normalize(\"NFKD\", str(text)).encode(\"ascii\", \"ignore\").decode(\"utf-8\", \"ignore\"))"
   ]
  },
  {
   "cell_type": "code",
   "execution_count": 18,
   "metadata": {},
   "outputs": [],
   "source": [
    "#Menghapus STOPWORDS\n",
    "from nltk.corpus import stopwords\n",
    "stop_words=stopwords.words('english')\n",
    "df['tweetText']=df['tweetText'].apply(lambda x:\" \".join([i for i in str(x).split(\" \")  if i not in stop_words]))"
   ]
  },
  {
   "cell_type": "code",
   "execution_count": 19,
   "metadata": {},
   "outputs": [
    {
     "data": {
      "text/html": [
       "<div>\n",
       "<style scoped>\n",
       "    .dataframe tbody tr th:only-of-type {\n",
       "        vertical-align: middle;\n",
       "    }\n",
       "\n",
       "    .dataframe tbody tr th {\n",
       "        vertical-align: top;\n",
       "    }\n",
       "\n",
       "    .dataframe thead th {\n",
       "        text-align: right;\n",
       "    }\n",
       "</style>\n",
       "<table border=\"1\" class=\"dataframe\">\n",
       "  <thead>\n",
       "    <tr style=\"text-align: right;\">\n",
       "      <th></th>\n",
       "      <th>tweetText</th>\n",
       "    </tr>\n",
       "  </thead>\n",
       "  <tbody>\n",
       "    <tr>\n",
       "      <th>0</th>\n",
       "      <td>mobilelegendsol guys going something magic dus...</td>\n",
       "    </tr>\n",
       "    <tr>\n",
       "      <th>1</th>\n",
       "      <td>joystick bug pressing  directions time letting...</td>\n",
       "    </tr>\n",
       "    <tr>\n",
       "      <th>2</th>\n",
       "      <td>popular mobilelegendsol events peak viewersdet...</td>\n",
       "    </tr>\n",
       "    <tr>\n",
       "      <th>3</th>\n",
       "      <td>freakingmvp mobilelegendsol tbh box thing syst...</td>\n",
       "    </tr>\n",
       "    <tr>\n",
       "      <th>4</th>\n",
       "      <td>jordicas try angling cannonturrent shoulderplz</td>\n",
       "    </tr>\n",
       "    <tr>\n",
       "      <th>...</th>\n",
       "      <td>...</td>\n",
       "    </tr>\n",
       "    <tr>\n",
       "      <th>995</th>\n",
       "      <td>another round guess hero  right answer onlymgl...</td>\n",
       "    </tr>\n",
       "    <tr>\n",
       "      <th>996</th>\n",
       "      <td>mobilelegendsol tsu guy come easy probably league</td>\n",
       "    </tr>\n",
       "    <tr>\n",
       "      <th>997</th>\n",
       "      <td>mobilelegendsol mlbb really losing lawsuit</td>\n",
       "    </tr>\n",
       "    <tr>\n",
       "      <th>998</th>\n",
       "      <td>mobilelegendsol moonton  wanted julianriot  wa...</td>\n",
       "    </tr>\n",
       "    <tr>\n",
       "      <th>999</th>\n",
       "      <td>mobilelegendsol tsu alice</td>\n",
       "    </tr>\n",
       "  </tbody>\n",
       "</table>\n",
       "<p>1000 rows × 1 columns</p>\n",
       "</div>"
      ],
      "text/plain": [
       "                                             tweetText\n",
       "0    mobilelegendsol guys going something magic dus...\n",
       "1    joystick bug pressing  directions time letting...\n",
       "2    popular mobilelegendsol events peak viewersdet...\n",
       "3    freakingmvp mobilelegendsol tbh box thing syst...\n",
       "4       jordicas try angling cannonturrent shoulderplz\n",
       "..                                                 ...\n",
       "995  another round guess hero  right answer onlymgl...\n",
       "996  mobilelegendsol tsu guy come easy probably league\n",
       "997         mobilelegendsol mlbb really losing lawsuit\n",
       "998  mobilelegendsol moonton  wanted julianriot  wa...\n",
       "999                          mobilelegendsol tsu alice\n",
       "\n",
       "[1000 rows x 1 columns]"
      ]
     },
     "execution_count": 19,
     "metadata": {},
     "output_type": "execute_result"
    }
   ],
   "source": [
    "df"
   ]
  },
  {
   "cell_type": "code",
   "execution_count": null,
   "metadata": {},
   "outputs": [],
   "source": []
  }
 ],
 "metadata": {
  "kernelspec": {
   "display_name": "Python 3",
   "language": "python",
   "name": "python3"
  },
  "language_info": {
   "codemirror_mode": {
    "name": "ipython",
    "version": 3
   },
   "file_extension": ".py",
   "mimetype": "text/x-python",
   "name": "python",
   "nbconvert_exporter": "python",
   "pygments_lexer": "ipython3",
   "version": "3.8.3"
  }
 },
 "nbformat": 4,
 "nbformat_minor": 4
}
